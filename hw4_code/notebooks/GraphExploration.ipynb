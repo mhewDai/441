{
 "cells": [
  {
   "cell_type": "code",
   "execution_count": 97,
   "id": "1dfa1cbf",
   "metadata": {},
   "outputs": [],
   "source": [
    "import sys"
   ]
  },
  {
   "cell_type": "code",
   "execution_count": 98,
   "id": "b8636301",
   "metadata": {},
   "outputs": [],
   "source": [
    "sys.path.append(\"..\")"
   ]
  },
  {
   "cell_type": "code",
   "execution_count": 99,
   "id": "96be7457",
   "metadata": {},
   "outputs": [],
   "source": [
    "import torch\n",
    "from src.data.graph import Graph"
   ]
  },
  {
   "cell_type": "code",
   "execution_count": 100,
   "id": "c68c0053",
   "metadata": {},
   "outputs": [
    {
     "name": "stdout",
     "output_type": "stream",
     "text": [
      "/Users/eir/Downloads/11441/mlwg_f24_hw4-main/notebooks\n"
     ]
    }
   ],
   "source": [
    "!pwd"
   ]
  },
  {
   "cell_type": "markdown",
   "id": "eefaabbd",
   "metadata": {},
   "source": [
    "#### We will start exploring the graph by instantiating a Graph object. That requires defining an argument dictionary.\n"
   ]
  },
  {
   "cell_type": "code",
   "execution_count": 101,
   "id": "df96e646",
   "metadata": {},
   "outputs": [],
   "source": [
    "args = {\n",
    "        \"graph\": \"cora\",  # name of the graph\n",
    "        \"basepath\": \"../data\",  # path to the directory that has the graph files\n",
    "        \"task\": \"classify\",  # the task\n",
    "        \"test_frac\": 0.20,  #  fraction of the edges to be used as test split\n",
    "        \"val_frac\": 0.20,  #  fraction of the edges to be used as val split\n",
    "        \"gpu\": False  # we don't need a GPU for exploring the graph\n",
    "        } "
   ]
  },
  {
   "cell_type": "markdown",
   "id": "c2e62746",
   "metadata": {},
   "source": []
  },
  {
   "cell_type": "code",
   "execution_count": 102,
   "id": "2f088b83",
   "metadata": {},
   "outputs": [
    {
     "name": "stdout",
     "output_type": "stream",
     "text": [
      "Loading cora dataset...\n",
      "Found 5429 edges\n"
     ]
    }
   ],
   "source": [
    "graph = Graph(**args)"
   ]
  },
  {
   "cell_type": "markdown",
   "id": "60b3e1cf",
   "metadata": {},
   "source": [
    "### Each graph object has three important attributes\n",
    "1. Node features\n",
    "2. Node labels\n",
    "3. The adjacency matrix (sparse coo matrix)"
   ]
  },
  {
   "cell_type": "code",
   "execution_count": 103,
   "id": "0c296f9c",
   "metadata": {},
   "outputs": [
    {
     "data": {
      "text/plain": [
       "(2708, 1433)"
      ]
     },
     "execution_count": 103,
     "metadata": {},
     "output_type": "execute_result"
    }
   ],
   "source": [
    "# extract the number of nodes and features\n",
    "num_nodes, num_features = graph.features.shape\n",
    "num_nodes, num_features"
   ]
  },
  {
   "cell_type": "code",
   "execution_count": 104,
   "id": "9bb0c018",
   "metadata": {},
   "outputs": [
    {
     "data": {
      "text/plain": [
       "tensor([2, 5, 4,  ..., 1, 0, 2])"
      ]
     },
     "execution_count": 104,
     "metadata": {},
     "output_type": "execute_result"
    }
   ],
   "source": [
    "graph.labels"
   ]
  },
  {
   "cell_type": "markdown",
   "id": "80973176",
   "metadata": {},
   "source": [
    "##### Extract the ede information"
   ]
  },
  {
   "cell_type": "code",
   "execution_count": 105,
   "id": "7d0ff64c",
   "metadata": {},
   "outputs": [],
   "source": [
    "edges = graph.adj.coalesce().indices().T.tolist()"
   ]
  },
  {
   "cell_type": "code",
   "execution_count": 106,
   "id": "0f5d8341",
   "metadata": {},
   "outputs": [
    {
     "data": {
      "text/plain": [
       "[[0, 0], [0, 8], [0, 14], [0, 258]]"
      ]
     },
     "execution_count": 106,
     "metadata": {},
     "output_type": "execute_result"
    }
   ],
   "source": [
    "edges[:4]  # edges is a list of [node1, node2] elements, indicating an edge between node1 and node 2 "
   ]
  },
  {
   "cell_type": "code",
   "execution_count": 107,
   "id": "a1008da9",
   "metadata": {},
   "outputs": [
    {
     "data": {
      "text/plain": [
       "13264"
      ]
     },
     "execution_count": 107,
     "metadata": {},
     "output_type": "execute_result"
    }
   ],
   "source": [
    "num_edges = len(edges);\n",
    "num_edges"
   ]
  },
  {
   "cell_type": "code",
   "execution_count": 108,
   "id": "ec30a460",
   "metadata": {},
   "outputs": [],
   "source": [
    "from collections import defaultdict\n",
    "def find_degree_per_node(edges):\n",
    "    in_degree = defaultdict(int)\n",
    "\n",
    "    for (src, tgt) in edges:\n",
    "        in_degree[tgt] += 1\n",
    "    \n",
    "    avg_in_degree = sum(in_degree.values()) / len(in_degree)\n",
    "    max_in_degree = max(in_degree.values())\n",
    "    min_in_degree = min(in_degree.values())\n",
    "    \n",
    "    \n",
    "    print(avg_in_degree, max_in_degree, min_in_degree)\n",
    "    \n",
    "        "
   ]
  },
  {
   "cell_type": "code",
   "execution_count": 109,
   "id": "f3efd0ad",
   "metadata": {},
   "outputs": [
    {
     "name": "stdout",
     "output_type": "stream",
     "text": [
      "4.89807976366322 169 2\n"
     ]
    }
   ],
   "source": [
    "find_degree_per_node(edges)"
   ]
  },
  {
   "cell_type": "code",
   "execution_count": 110,
   "id": "55b99d0c",
   "metadata": {},
   "outputs": [
    {
     "name": "stdout",
     "output_type": "stream",
     "text": [
      "Graph: cora\n",
      "Max in-degree: 169\n",
      "Min in-degree: 2\n",
      "Average in-degree: 4.90\n",
      "Number of nodes: 2708\n",
      "Number of edges: 13264\n",
      "Node feature dimension: 1433\n"
     ]
    }
   ],
   "source": [
    "from collections import defaultdict\n",
    "\n",
    "def graph_statistics(graph):\n",
    "    # Extracting node and feature information\n",
    "    num_nodes, num_features = graph.features.shape\n",
    "    edges = graph.adj.coalesce().indices().T.tolist()\n",
    "    num_edges = len(edges)\n",
    "    \n",
    "    # Calculating in-degrees\n",
    "    in_degree = defaultdict(int)\n",
    "    for (src, tgt) in edges:\n",
    "        in_degree[tgt] += 1\n",
    "    \n",
    "    avg_in_degree = sum(in_degree.values()) / len(in_degree) if in_degree else 0\n",
    "    max_in_degree = max(in_degree.values()) if in_degree else 0\n",
    "    min_in_degree = min(in_degree.values()) if in_degree else 0\n",
    "    \n",
    "    # Print statistics\n",
    "    print(f\"Graph: {args['graph']}\")\n",
    "    print(f\"Max in-degree: {max_in_degree}\")\n",
    "    print(f\"Min in-degree: {min_in_degree}\")\n",
    "    print(f\"Average in-degree: {avg_in_degree:.2f}\")\n",
    "    print(f\"Number of nodes: {num_nodes}\")\n",
    "    print(f\"Number of edges: {num_edges}\")\n",
    "    print(f\"Node feature dimension: {num_features}\")\n",
    "\n",
    "graph_statistics(graph)"
   ]
  }
 ],
 "metadata": {
  "kernelspec": {
   "display_name": "my_env",
   "language": "python",
   "name": "python3"
  },
  "language_info": {
   "codemirror_mode": {
    "name": "ipython",
    "version": 3
   },
   "file_extension": ".py",
   "mimetype": "text/x-python",
   "name": "python",
   "nbconvert_exporter": "python",
   "pygments_lexer": "ipython3",
   "version": "3.6.7"
  }
 },
 "nbformat": 4,
 "nbformat_minor": 5
}
